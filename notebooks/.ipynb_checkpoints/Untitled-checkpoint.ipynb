{
 "cells": [
  {
   "cell_type": "code",
   "execution_count": 4,
   "metadata": {
    "collapsed": true
   },
   "outputs": [],
   "source": [
    "# import important stuff\n",
    "import numpy as np\n",
    "import pandas as pd"
   ]
  },
  {
   "cell_type": "code",
   "execution_count": 7,
   "metadata": {},
   "outputs": [],
   "source": [
    "csv_names = []\n",
    "for i,chunk in enumerate(pd.read_csv('./../data/Consumer_Complaints.csv', chunksize=120000)):\n",
    "    chunk.to_csv('./../data/consumer_complaints{}.csv'.format(i))\n",
    "    csv_names.append('consumer_complaints{}.csv'.format(i))"
   ]
  },
  {
   "cell_type": "code",
   "execution_count": 8,
   "metadata": {},
   "outputs": [
    {
     "data": {
      "text/plain": [
       "['consumer_complaints0.csv',\n",
       " 'consumer_complaints1.csv',\n",
       " 'consumer_complaints2.csv',\n",
       " 'consumer_complaints3.csv',\n",
       " 'consumer_complaints4.csv',\n",
       " 'consumer_complaints5.csv',\n",
       " 'consumer_complaints6.csv',\n",
       " 'consumer_complaints7.csv',\n",
       " 'consumer_complaints8.csv']"
      ]
     },
     "execution_count": 8,
     "metadata": {},
     "output_type": "execute_result"
    }
   ],
   "source": [
    "csv_names"
   ]
  },
  {
   "cell_type": "code",
   "execution_count": 11,
   "metadata": {},
   "outputs": [],
   "source": [
    "merged = []\n",
    "\n",
    "for i in csv_names:\n",
    "    read = pd.read_csv('./../data/'+ i)\n",
    "    merged.append(read)\n",
    "\n",
    "df = pd.concat(merged)"
   ]
  },
  {
   "cell_type": "code",
   "execution_count": 13,
   "metadata": {},
   "outputs": [
    {
     "name": "stdout",
     "output_type": "stream",
     "text": [
      "<class 'pandas.core.frame.DataFrame'>\n",
      "RangeIndex: 1045879 entries, 0 to 1045878\n",
      "Data columns (total 20 columns):\n",
      "index                           1045879 non-null int64\n",
      "Unnamed: 0                      1045879 non-null int64\n",
      "Date received                   1045879 non-null object\n",
      "Product                         1045879 non-null object\n",
      "Sub-product                     810709 non-null object\n",
      "Issue                           1045879 non-null object\n",
      "Sub-issue                       546572 non-null object\n",
      "Consumer complaint narrative    287655 non-null object\n",
      "Company public response         328726 non-null object\n",
      "Company                         1045879 non-null object\n",
      "State                           1033329 non-null object\n",
      "ZIP code                        1028872 non-null object\n",
      "Tags                            144084 non-null object\n",
      "Consumer consent provided?      508898 non-null object\n",
      "Submitted via                   1045879 non-null object\n",
      "Date sent to company            1045879 non-null object\n",
      "Company response to consumer    1045875 non-null object\n",
      "Timely response?                1045879 non-null object\n",
      "Consumer disputed?              768552 non-null object\n",
      "Complaint ID                    1045879 non-null int64\n",
      "dtypes: int64(3), object(17)\n",
      "memory usage: 159.6+ MB\n"
     ]
    }
   ],
   "source": [
    "df.reset_index().info()"
   ]
  },
  {
   "cell_type": "code",
   "execution_count": null,
   "metadata": {
    "collapsed": true
   },
   "outputs": [],
   "source": []
  }
 ],
 "metadata": {
  "kernelspec": {
   "display_name": "Python 3",
   "language": "python",
   "name": "python3"
  },
  "language_info": {
   "codemirror_mode": {
    "name": "ipython",
    "version": 3
   },
   "file_extension": ".py",
   "mimetype": "text/x-python",
   "name": "python",
   "nbconvert_exporter": "python",
   "pygments_lexer": "ipython3",
   "version": "3.6.1"
  }
 },
 "nbformat": 4,
 "nbformat_minor": 2
}
