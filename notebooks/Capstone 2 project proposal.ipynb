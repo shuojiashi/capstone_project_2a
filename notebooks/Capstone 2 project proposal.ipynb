{
 "cells": [
  {
   "cell_type": "markdown",
   "metadata": {},
   "source": [
    "# Capstone Project 2 Proposal \n",
    " \n",
    "## Consumer Complaints Towards Financial Products\n",
    "\n",
    "### Problem:  \n",
    "Financial companies relpy on their products and services to generate profit and strive. The key factor is the satisfaction of their customers. Without data, it is difficult to measure and compare the level of satisfaction. The Consumer Financial Protection Bureau (CFPB) has been accepting consumer complaints of financial products and services since 2011. These complaints are sent to companies for response. Consumer complaint data could be a great way to spot apparent issues. It could also be a supporting evidence when analyzing customers' satisfation level toward a product or service. It can also give insight in ways to improve their products and customer satisfaction. \n",
    "\n",
    "\n",
    "### Who might care?    \n",
    "**- Financial Companies:**   \n",
    "    Use this report to find insight into problems that people are experiencing, help identify inappropriate practices. The trends in the timing and location of the complaints would be valuable information for companies hoping to proactively improve their performance by keeping customer happy.   \n",
    "**- State and federal agencies:**  \n",
    "    Take the report data as an indicator of the quality of financial products by the companies. Could provide evidence for some market regulations.    \n",
    "**- Financial prducts Customers:**  \n",
    "    Consider this report as a reference for choosing a company for a certain financial product or service. \n",
    "\n",
    "### Questions to analyze?  \n",
    "- What products get complained most? \n",
    "- What issues are complained most against?\n",
    "- What companies get least complaints?\n",
    "- Which day of the week and month of the year the CFPB receives most complaints?\n",
    "- Are there patterns in the States and areas?\n",
    "- Are there any patterns in the consumer complaints narrative?\n",
    "- Can we predict if a complaint will be disputed?\n",
    "- How to improve the efficiency of replying a complaint?\n",
    "\n",
    "### Data:  \n",
    "The financial customer complaint data can be downloaded on the CFPB website, consumer complaint database:   \n",
    "https://www.consumerfinance.gov/data-research/consumer-complaints/#download-the-data  \n",
    "The data set contains up-to-date (of this study) record of customer complaints since 2011. Its size is 560.9 MB.   \n",
    "\n",
    "**Examples of features:**  Product, Issue, Consumer complaint narrative, Company public response, Consumer disputed?, ...  \n",
    "\n",
    "The table explaining all the features of the data can be found here:  \n",
    "https://cfpb.github.io/api/ccdb/fields.html  \n",
    "\n",
    "### Approach to solving this problem:   \n",
    "The plan is to mainly use Python numpy and pandas package for data wrangling. The dataset will be cleaned to relavant variables and checked for inconsistencies. \n",
    "\n",
    "Python's Scipy and statsmodel modules will be used to find statistic values and significance for this data set. Matplotlib and seaborn packages will largely implement the exploratory data analysis (EDA). Comparisons and correlations between variables can be analyzed and visualized. The preliminary questions should be answered after this stage.\n",
    "\n",
    "It would be interesting to see if there is a pattern in whether a complaint will be disputed later. To do this, the application of statistical modeling and machine-learning will be tested with Python's scikit-learn module. There will be Natural Language Processing (NLP) using the Complaints Narrative and Company Response features of the data set and other classification methods on other non-text features.    \n",
    "\n",
    "\n",
    "### Deliverables:  \n",
    "1. Python code on GitHub:   \n",
    "    a. data wragling  \n",
    "    b. data exploration analysis  \n",
    "    c. machine learning model development  \n",
    "2. Report on the capstone project"
   ]
  },
  {
   "cell_type": "code",
   "execution_count": null,
   "metadata": {
    "collapsed": true
   },
   "outputs": [],
   "source": []
  }
 ],
 "metadata": {
  "kernelspec": {
   "display_name": "Python 3",
   "language": "python",
   "name": "python3"
  },
  "language_info": {
   "codemirror_mode": {
    "name": "ipython",
    "version": 3
   },
   "file_extension": ".py",
   "mimetype": "text/x-python",
   "name": "python",
   "nbconvert_exporter": "python",
   "pygments_lexer": "ipython3",
   "version": "3.6.1"
  }
 },
 "nbformat": 4,
 "nbformat_minor": 2
}
